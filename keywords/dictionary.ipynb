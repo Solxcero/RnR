{
 "cells": [
  {
   "cell_type": "code",
   "execution_count": 1,
   "metadata": {},
   "outputs": [],
   "source": [
    "import pandas as pd\n",
    "import json\n",
    "import pickle\n",
    "import os"
   ]
  },
  {
   "cell_type": "code",
   "execution_count": 20,
   "metadata": {},
   "outputs": [],
   "source": [
    "df = pd.read_excel('./key_dict.xlsx')\n",
    "\n",
    "rev_cat = {}\n",
    "for c,k in zip(df['카테고리'],df['하위단어']):\n",
    "    rev_cat[c] = k.split(',')"
   ]
  },
  {
   "cell_type": "code",
   "execution_count": 21,
   "metadata": {},
   "outputs": [],
   "source": [
    "rev_cat2 = {}\n",
    "for i,k in enumerate(rev_cat):\n",
    "    rev_cat2[i+1] = {k:rev_cat[k]}"
   ]
  },
  {
   "cell_type": "code",
   "execution_count": 18,
   "metadata": {},
   "outputs": [
    {
     "data": {
      "text/plain": [
       "['구성비', '성비', '가격']"
      ]
     },
     "execution_count": 18,
     "metadata": {},
     "output_type": "execute_result"
    }
   ],
   "source": [
    "rev_cat2[1]['가격']"
   ]
  },
  {
   "cell_type": "code",
   "execution_count": 24,
   "metadata": {},
   "outputs": [
    {
     "data": {
      "text/plain": [
       "{'휘트니스': ['피트', '센터', '운동']}"
      ]
     },
     "execution_count": 24,
     "metadata": {},
     "output_type": "execute_result"
    }
   ],
   "source": [
    "rev_cat2[13]"
   ]
  },
  {
   "cell_type": "code",
   "execution_count": 22,
   "metadata": {},
   "outputs": [],
   "source": [
    "with open ('dictionary2.json','w',encoding='UTF-8-sig') as f:\n",
    "    json.dump(rev_cat2,f,indent=4,ensure_ascii=False)"
   ]
  },
  {
   "cell_type": "code",
   "execution_count": 1,
   "metadata": {},
   "outputs": [],
   "source": [
    "import pandas as pd"
   ]
  },
  {
   "cell_type": "code",
   "execution_count": 3,
   "metadata": {},
   "outputs": [
    {
     "data": {
      "text/html": [
       "<div>\n",
       "<style scoped>\n",
       "    .dataframe tbody tr th:only-of-type {\n",
       "        vertical-align: middle;\n",
       "    }\n",
       "\n",
       "    .dataframe tbody tr th {\n",
       "        vertical-align: top;\n",
       "    }\n",
       "\n",
       "    .dataframe thead th {\n",
       "        text-align: right;\n",
       "    }\n",
       "</style>\n",
       "<table border=\"1\" class=\"dataframe\">\n",
       "  <thead>\n",
       "    <tr style=\"text-align: right;\">\n",
       "      <th></th>\n",
       "      <th>ht_id</th>\n",
       "      <th>cat_id</th>\n",
       "      <th>date</th>\n",
       "      <th>review</th>\n",
       "    </tr>\n",
       "  </thead>\n",
       "  <tbody>\n",
       "    <tr>\n",
       "      <th>0</th>\n",
       "      <td>1</td>\n",
       "      <td>12</td>\n",
       "      <td>2022.01.17</td>\n",
       "      <td>킹스파크 예뻐요</td>\n",
       "    </tr>\n",
       "    <tr>\n",
       "      <th>1</th>\n",
       "      <td>3</td>\n",
       "      <td>12</td>\n",
       "      <td>2022.12.31</td>\n",
       "      <td>사우나가 좋았고 라운지도 잘 활용하였음</td>\n",
       "    </tr>\n",
       "    <tr>\n",
       "      <th>2</th>\n",
       "      <td>3</td>\n",
       "      <td>12</td>\n",
       "      <td>2023.02.07</td>\n",
       "      <td>커튼을 치면 반대쪽 건물 직원과 인사할 수 있다  가격 대비 애매한 느낌 역삼 강남...</td>\n",
       "    </tr>\n",
       "    <tr>\n",
       "      <th>3</th>\n",
       "      <td>3</td>\n",
       "      <td>12</td>\n",
       "      <td>2022.11.28</td>\n",
       "      <td>객실이랑 조식 뷔페 사우나 등 장소가 너무 협소해 좀 답답한 면이 있습디</td>\n",
       "    </tr>\n",
       "    <tr>\n",
       "      <th>4</th>\n",
       "      <td>3</td>\n",
       "      <td>12</td>\n",
       "      <td>2022.06.02</td>\n",
       "      <td>공용 로비와 사우나 시설을 청소하고 관리하시는 나이 드신 분들까지도 모두 친절하여 ...</td>\n",
       "    </tr>\n",
       "    <tr>\n",
       "      <th>...</th>\n",
       "      <td>...</td>\n",
       "      <td>...</td>\n",
       "      <td>...</td>\n",
       "      <td>...</td>\n",
       "    </tr>\n",
       "    <tr>\n",
       "      <th>6019</th>\n",
       "      <td>386</td>\n",
       "      <td>12</td>\n",
       "      <td>2022.09.14</td>\n",
       "      <td>수영장이나 숙소의 깔끔함은 좋았지만 시설이 부실했던 것 같습니다</td>\n",
       "    </tr>\n",
       "    <tr>\n",
       "      <th>6020</th>\n",
       "      <td>386</td>\n",
       "      <td>12</td>\n",
       "      <td>2022.09.18</td>\n",
       "      <td>수영장 물 따뜻하고 놀기 좋아요</td>\n",
       "    </tr>\n",
       "    <tr>\n",
       "      <th>6021</th>\n",
       "      <td>386</td>\n",
       "      <td>12</td>\n",
       "      <td>2023.01.08</td>\n",
       "      <td>수영장은 동절기라 운영이 안됐고 조식이 포함 안된 거였어요</td>\n",
       "    </tr>\n",
       "    <tr>\n",
       "      <th>6022</th>\n",
       "      <td>386</td>\n",
       "      <td>12</td>\n",
       "      <td>2023.02.19</td>\n",
       "      <td>뷰는 시내라서 기대하지 않는 게 좋고요 수영장은 겨울부터 4월 거지는 개장 없어요</td>\n",
       "    </tr>\n",
       "    <tr>\n",
       "      <th>6023</th>\n",
       "      <td>386</td>\n",
       "      <td>12</td>\n",
       "      <td>2022.07.16</td>\n",
       "      <td>방도 깨끗하고 루프탑 수영장 기대 이상으로 너무 즇았구요 조식도 대만족이었습니다</td>\n",
       "    </tr>\n",
       "  </tbody>\n",
       "</table>\n",
       "<p>6024 rows × 4 columns</p>\n",
       "</div>"
      ],
      "text/plain": [
       "      ht_id  cat_id        date  \\\n",
       "0         1      12  2022.01.17   \n",
       "1         3      12  2022.12.31   \n",
       "2         3      12  2023.02.07   \n",
       "3         3      12  2022.11.28   \n",
       "4         3      12  2022.06.02   \n",
       "...     ...     ...         ...   \n",
       "6019    386      12  2022.09.14   \n",
       "6020    386      12  2022.09.18   \n",
       "6021    386      12  2023.01.08   \n",
       "6022    386      12  2023.02.19   \n",
       "6023    386      12  2022.07.16   \n",
       "\n",
       "                                                 review  \n",
       "0                                              킹스파크 예뻐요  \n",
       "1                                 사우나가 좋았고 라운지도 잘 활용하였음  \n",
       "2     커튼을 치면 반대쪽 건물 직원과 인사할 수 있다  가격 대비 애매한 느낌 역삼 강남...  \n",
       "3              객실이랑 조식 뷔페 사우나 등 장소가 너무 협소해 좀 답답한 면이 있습디  \n",
       "4     공용 로비와 사우나 시설을 청소하고 관리하시는 나이 드신 분들까지도 모두 친절하여 ...  \n",
       "...                                                 ...  \n",
       "6019                수영장이나 숙소의 깔끔함은 좋았지만 시설이 부실했던 것 같습니다  \n",
       "6020                                  수영장 물 따뜻하고 놀기 좋아요  \n",
       "6021                   수영장은 동절기라 운영이 안됐고 조식이 포함 안된 거였어요  \n",
       "6022      뷰는 시내라서 기대하지 않는 게 좋고요 수영장은 겨울부터 4월 거지는 개장 없어요  \n",
       "6023       방도 깨끗하고 루프탑 수영장 기대 이상으로 너무 즇았구요 조식도 대만족이었습니다  \n",
       "\n",
       "[6024 rows x 4 columns]"
      ]
     },
     "execution_count": 3,
     "metadata": {},
     "output_type": "execute_result"
    }
   ],
   "source": [
    "pd.read_csv('./files/수영장_사우나_스파.csv')"
   ]
  },
  {
   "cell_type": "code",
   "execution_count": null,
   "metadata": {},
   "outputs": [],
   "source": []
  }
 ],
 "metadata": {
  "kernelspec": {
   "display_name": "review",
   "language": "python",
   "name": "python3"
  },
  "language_info": {
   "codemirror_mode": {
    "name": "ipython",
    "version": 3
   },
   "file_extension": ".py",
   "mimetype": "text/x-python",
   "name": "python",
   "nbconvert_exporter": "python",
   "pygments_lexer": "ipython3",
   "version": "3.8.15"
  },
  "orig_nbformat": 4
 },
 "nbformat": 4,
 "nbformat_minor": 2
}
